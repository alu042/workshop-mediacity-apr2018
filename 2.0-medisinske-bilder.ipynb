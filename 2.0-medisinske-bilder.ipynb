{
 "cells": [
  {
   "cell_type": "markdown",
   "metadata": {},
   "source": [
    "# Setup"
   ]
  },
  {
   "cell_type": "code",
   "execution_count": null,
   "metadata": {},
   "outputs": [],
   "source": [
    "%matplotlib inline"
   ]
  },
  {
   "cell_type": "code",
   "execution_count": null,
   "metadata": {},
   "outputs": [],
   "source": [
    "from utils_med import *"
   ]
  },
  {
   "cell_type": "code",
   "execution_count": null,
   "metadata": {},
   "outputs": [],
   "source": [
    "#%load utils_med.py"
   ]
  },
  {
   "cell_type": "markdown",
   "metadata": {},
   "source": [
    "# Innledning"
   ]
  },
  {
   "cell_type": "markdown",
   "metadata": {},
   "source": [
    "I denne notebooken bruker vi deep learning på medisinske bilder. Vi skal trene et system som kan stille diagnose basert på røntgenbilder"
   ]
  },
  {
   "cell_type": "markdown",
   "metadata": {},
   "source": [
    "Vanlige røntgenbilder er den mest brukte metoden for å stille diagnose fra medisinske bilder. Fra [Wilhelm Conrad Röntgen](https://en.wikipedia.org/wiki/Wilhelm_R%C3%B6ntgen) oppdaget at røntgenstråler kan brukes til å identifisere bein i kroppen i 1895 og frem til 2010 har det blitt tatt **5 milliarder røntgenbilder**. "
   ]
  },
  {
   "cell_type": "markdown",
   "metadata": {},
   "source": [
    "<img width=40% src=\"assets/X-Ray.png\">"
   ]
  },
  {
   "cell_type": "markdown",
   "metadata": {},
   "source": [
    "I klinikken ser radiologer eller radiografer på bildene for å kunne stille en diagnose. Siden det tas så mange røntgenbilder, er dette en tidkrevende jobb.\n",
    "\n",
    "I denne workshopen skal du trene et nevralt nettverk som kan se om et røntgenbilde av bryst viser tegn til lungebetennelse eller ikke. Det vil si, klassifisere røntgenbilder med enten «No Finding» eller «Pneumonia». \n",
    "\n",
    "Dette er en viktig oppgave: Om en kjapt og presist kan utelukke en diagnose så slipper pasienten videre undersøkelser (og bekymringer) i den retningen, og en kan fokusere på andre potensielle diagnoser. En slik kunstig intelligens, også kalt et AI-system, kan potensielt være tidsbesparende. Radiologen kan bruke tiden på de vanskeligere tilfellene."
   ]
  },
  {
   "cell_type": "markdown",
   "metadata": {},
   "source": [
    "Som du skal se, AI-systemet du setter opp er i stand til å stille diagnose på nivå med eksperter!"
   ]
  },
  {
   "cell_type": "markdown",
   "metadata": {},
   "source": [
    "## Datamateriale"
   ]
  },
  {
   "cell_type": "markdown",
   "metadata": {},
   "source": [
    "<a href=\"https://www.nih.gov/news-events/news-releases/nih-clinical-center-provides-one-largest-publicly-available-chest-x-ray-datasets-scientific-community\">Treningsdata</a> vi bruker er fra National Institute of Health i USA, og ligger åpent tilgjengelig på nettet: https://www.kaggle.com/nih-chest-xrays"
   ]
  },
  {
   "cell_type": "markdown",
   "metadata": {},
   "source": [
    "Hvert bilde er annotert med en eller flere av <a href=\"https://www.kaggle.com/nih-chest-xrays/data\">14 ulike diagnoser</a>, blant annet Pneumonia (lungebetennelse)."
   ]
  },
  {
   "cell_type": "markdown",
   "metadata": {},
   "source": [
    "I denne notebooken ser vi kun på klassifisering av lungebetennelse versus resten. «Pneumonia» versus «No Pneumonia». "
   ]
  },
  {
   "cell_type": "markdown",
   "metadata": {},
   "source": [
    "### Tilrettelegging av data"
   ]
  },
  {
   "cell_type": "code",
   "execution_count": null,
   "metadata": {},
   "outputs": [],
   "source": [
    "NB_DIR = %pwd\n",
    "DATA_DIR = f'{NB_DIR}/data/XRay/'"
   ]
  },
  {
   "cell_type": "markdown",
   "metadata": {},
   "source": [
    "Jeg har organisert dataene i kataloger etter diagnose. Treningsdata og valideringsdata er delt opp i ulike underkataloger. "
   ]
  },
  {
   "cell_type": "code",
   "execution_count": null,
   "metadata": {},
   "outputs": [],
   "source": [
    "!tree -L 2 $DATA_DIR"
   ]
  },
  {
   "cell_type": "code",
   "execution_count": null,
   "metadata": {},
   "outputs": [],
   "source": [
    "train_dir = f'{DATA_DIR}train/'\n",
    "val_dir = f'{DATA_DIR}val/'"
   ]
  },
  {
   "cell_type": "markdown",
   "metadata": {},
   "source": [
    "Inne i hver katalog ligger bildene"
   ]
  },
  {
   "cell_type": "code",
   "execution_count": null,
   "metadata": {},
   "outputs": [],
   "source": [
    "!tree -L 3 $DATA_DIR"
   ]
  },
  {
   "cell_type": "markdown",
   "metadata": {},
   "source": [
    "Vi samler treningsbildene og valideringsbildene i to lister:"
   ]
  },
  {
   "cell_type": "code",
   "execution_count": null,
   "metadata": {},
   "outputs": [],
   "source": [
    "from glob import glob"
   ]
  },
  {
   "cell_type": "code",
   "execution_count": null,
   "metadata": {},
   "outputs": [],
   "source": [
    "train_images = glob(f'{train_dir}/*/*.png')\n",
    "val_images = glob(f'{val_dir}/*/*.png')"
   ]
  },
  {
   "cell_type": "code",
   "execution_count": null,
   "metadata": {},
   "outputs": [],
   "source": [
    "train_images[:5]"
   ]
  },
  {
   "cell_type": "code",
   "execution_count": null,
   "metadata": {},
   "outputs": [],
   "source": [
    "len(train_images), len(val_images)"
   ]
  },
  {
   "cell_type": "code",
   "execution_count": null,
   "metadata": {},
   "outputs": [],
   "source": [
    "import matplotlib.pyplot as plt\n",
    "\n",
    "img = cv2.imread(train_images[0])\n",
    "\n",
    "plt.imshow(img)\n",
    "plt.axis('Off')\n",
    "plt.show()"
   ]
  },
  {
   "cell_type": "markdown",
   "metadata": {},
   "source": [
    "# Nevralt nettverk"
   ]
  },
  {
   "cell_type": "markdown",
   "metadata": {},
   "source": [
    "Vi kan nøyaktig de samme nettverkene som for Cifar-10 i forrige del av workshopen. Men denne gang mater vi inn røntgenbilder og ber om å få ut en av to ulike diagnoser: enten «no finding» eller «pneumonia», markert som 0 eller 1."
   ]
  },
  {
   "cell_type": "markdown",
   "metadata": {},
   "source": [
    "## Enkelt (moderne) nettverk"
   ]
  },
  {
   "cell_type": "code",
   "execution_count": null,
   "metadata": {},
   "outputs": [],
   "source": [
    "# Nedskalerer bildene til 50x50\n",
    "img_width, img_height = 50, 50"
   ]
  },
  {
   "cell_type": "code",
   "execution_count": null,
   "metadata": {},
   "outputs": [],
   "source": [
    "nb_train_samples = len(train_images)\n",
    "nb_validation_samples = len(val_images)\n",
    "batch_size = 16"
   ]
  },
  {
   "cell_type": "code",
   "execution_count": null,
   "metadata": {},
   "outputs": [],
   "source": [
    "model = Sequential()\n",
    "\n",
    "model.add(Conv2D(32, (3, 3), padding='same', input_shape=(img_width, img_height, 3), activation='relu'))\n",
    "model.add(Conv2D(32, (3, 3), activation='relu'))\n",
    "model.add(MaxPooling2D(pool_size=(2, 2)))\n",
    "model.add(Dropout(0.25))\n",
    "\n",
    "model.add(Conv2D(64, (3, 3), padding='same', activation='relu'))\n",
    "model.add(Conv2D(64, (3, 3), activation='relu'))\n",
    "model.add(MaxPooling2D(pool_size=(2, 2)))\n",
    "model.add(Dropout(0.25))\n",
    "\n",
    "model.add(Flatten())\n",
    "model.add(Dense(1024, activation='relu'))\n",
    "model.add(Dense(1))\n",
    "model.add(Activation('sigmoid'))"
   ]
  },
  {
   "cell_type": "code",
   "execution_count": null,
   "metadata": {},
   "outputs": [],
   "source": [
    "model.compile(loss='binary_crossentropy',\n",
    "              optimizer='rmsprop',\n",
    "              metrics=['accuracy'])"
   ]
  },
  {
   "cell_type": "code",
   "execution_count": null,
   "metadata": {},
   "outputs": [],
   "source": [
    "train_datagen = ImageDataGenerator(\n",
    "    rescale=1. / 255,\n",
    "    zoom_range=0.2,\n",
    "    horizontal_flip=True)"
   ]
  },
  {
   "cell_type": "code",
   "execution_count": null,
   "metadata": {},
   "outputs": [],
   "source": [
    "test_datagen = ImageDataGenerator(rescale=1. / 255)"
   ]
  },
  {
   "cell_type": "code",
   "execution_count": null,
   "metadata": {},
   "outputs": [],
   "source": [
    "train_generator = train_datagen.flow_from_directory(\n",
    "    train_dir,\n",
    "    target_size=(img_width, img_height),\n",
    "    batch_size=batch_size,\n",
    "    class_mode='binary')\n",
    "\n",
    "validation_generator = test_datagen.flow_from_directory(\n",
    "    val_dir,\n",
    "    target_size=(img_width, img_height),\n",
    "    batch_size=batch_size,\n",
    "    class_mode='binary')"
   ]
  },
  {
   "cell_type": "code",
   "execution_count": null,
   "metadata": {},
   "outputs": [],
   "source": [
    "model.fit_generator(\n",
    "    train_generator,\n",
    "    steps_per_epoch=nb_train_samples // batch_size,\n",
    "    epochs=2,\n",
    "    validation_data=validation_generator,\n",
    "    validation_steps=nb_validation_samples // batch_size)"
   ]
  },
  {
   "cell_type": "markdown",
   "metadata": {},
   "source": [
    "Som du ser så trenes nettverket. Men resultatene er så som så... Husk at det bare er to mulige utfall. Vill gjetning gir 50% accuracy på treningsdata.\n",
    "\n",
    "Her er fem mulige årsaker til lav accuracy\n",
    "\n",
    "1. Trent for kort. Fiks: tren mer (forsøk gjerne dette)\n",
    "2. For små bilder. Vi nedskalerte til 50x50. Fiks: velg noe større (koster i form av tid og minne på GPU)\n",
    "3. For lite data. Fiksbart siden vi har 112.000 bilder til rådighet (men ikke fiksbart her i dag, siden vi kun leker med et lite utvalg)\n",
    "4. For simpel nettverksarkitektur. \n",
    "5. For simpelt treningsregime. Fiks: mer forsiktig valg av ting som learning rate (gjerne varierende lr under trening, batch_size, hvilken optimerer, osv)"
   ]
  },
  {
   "cell_type": "markdown",
   "metadata": {},
   "source": [
    "**Vi undersøker punkt 4**"
   ]
  },
  {
   "cell_type": "markdown",
   "metadata": {},
   "source": [
    "## DenseNet121"
   ]
  },
  {
   "cell_type": "markdown",
   "metadata": {},
   "source": [
    "Her laster vi inn DenseNet121-nettverket vi brukte på Cifar-10 i `1.0-neural_networks.ipynb`:"
   ]
  },
  {
   "cell_type": "code",
   "execution_count": null,
   "metadata": {},
   "outputs": [],
   "source": [
    "model = densenet121_xray_pretrained()"
   ]
  },
  {
   "cell_type": "code",
   "execution_count": null,
   "metadata": {},
   "outputs": [],
   "source": [
    "model.compile(optimizer=SGD(lr=1e-3, decay=1e-6, momentum=0.9, nesterov=True), loss='binary_crossentropy', metrics=['accuracy'])"
   ]
  },
  {
   "cell_type": "code",
   "execution_count": null,
   "metadata": {},
   "outputs": [],
   "source": [
    "model.fit_generator(\n",
    "        train_generator,\n",
    "        steps_per_epoch=nb_train_samples // batch_size,\n",
    "        epochs=1,\n",
    "        validation_data=validation_generator,\n",
    "        validation_steps=nb_validation_samples // batch_size)"
   ]
  },
  {
   "cell_type": "code",
   "execution_count": null,
   "metadata": {},
   "outputs": [],
   "source": [
    "model.fit_generator(\n",
    "        train_generator,\n",
    "        steps_per_epoch=nb_train_samples // batch_size,\n",
    "        epochs=1)"
   ]
  },
  {
   "cell_type": "markdown",
   "metadata": {},
   "source": [
    "Dette fungerer ikke bra... \n",
    "\n",
    "Vi kunne trent mer (du må gjerne forsøke), men det vil være lite forbedring før vi putter inn mer data. \n",
    "\n",
    "Det er fordi pneumonia er et subtilt fenomen på røntgen. Det er små nyanser i mønstrene i bildet som avgjør hvorvidt pneumonia settes som diagnose. Jo mindre nyanser, jo mer treningsdata kreves. \n",
    "\n",
    "*Spurv med kanoner, men nesten ingen spurv i sikte.*"
   ]
  },
  {
   "cell_type": "markdown",
   "metadata": {},
   "source": [
    "Hva hvis vi hadde matet inn alle 112.000 bildene i (nøyaktig) dette nettverket? \n",
    "\n",
    "Jo, et fantastisk godt resultat! "
   ]
  },
  {
   "cell_type": "markdown",
   "metadata": {},
   "source": [
    "https://stanfordmlgroup.github.io/projects/chexnet/"
   ]
  },
  {
   "cell_type": "markdown",
   "metadata": {},
   "source": [
    "<img src=\"assets/chexnet-1.png\">"
   ]
  },
  {
   "cell_type": "markdown",
   "metadata": {},
   "source": [
    "<img src=\"assets/chexnet-2.png\">"
   ]
  },
  {
   "cell_type": "markdown",
   "metadata": {},
   "source": [
    "Dette illustrerer viktigheten av treningsdata. Metoder som er uhyre gode kan fungere dårlig, helt til en plutselig gir dem nok treningsdata. \n",
    "\n",
    "    Gode metoder + tilstrekkelig med data + tilstrekkelig med regnekraft = suksess\n",
    "\n",
    "alle tre må til. "
   ]
  },
  {
   "cell_type": "markdown",
   "metadata": {},
   "source": [
    "Snakk med Sathiesh om du vil vite mer om hvordan du kan få gode resultater på disse dataene. Han har reprodusert resultatatet fra Stanford, og arbeider også med en utvidelse til andre typer diagnoser på andre typer røntgenbilder. \n",
    "\n",
    "<img width=40% src=\"assets/sathiesh.jpg\">"
   ]
  }
 ],
 "metadata": {
  "kernelspec": {
   "display_name": "Mediacity",
   "language": "python",
   "name": "mediacity"
  },
  "language_info": {
   "codemirror_mode": {
    "name": "ipython",
    "version": 3
   },
   "file_extension": ".py",
   "mimetype": "text/x-python",
   "name": "python",
   "nbconvert_exporter": "python",
   "pygments_lexer": "ipython3",
   "version": "3.6.5"
  },
  "toc": {
   "colors": {
    "hover_highlight": "#DAA520",
    "running_highlight": "#FF0000",
    "selected_highlight": "#FFD700"
   },
   "moveMenuLeft": true,
   "nav_menu": {
    "height": "175px",
    "width": "252px"
   },
   "navigate_menu": true,
   "number_sections": true,
   "sideBar": true,
   "threshold": 4,
   "toc_cell": false,
   "toc_section_display": "block",
   "toc_window_display": false
  }
 },
 "nbformat": 4,
 "nbformat_minor": 2
}
