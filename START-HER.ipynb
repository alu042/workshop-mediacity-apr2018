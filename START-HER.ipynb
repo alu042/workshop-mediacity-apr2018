{
 "cells": [
  {
   "cell_type": "markdown",
   "metadata": {},
   "source": [
    "# Din notebook"
   ]
  },
  {
   "cell_type": "markdown",
   "metadata": {},
   "source": [
    "Du skal selv fylle denne med innhold, med unntak av et par småting som er skrevet på forhånd. "
   ]
  },
  {
   "cell_type": "markdown",
   "metadata": {},
   "source": [
    "Du jobber nå på en kraftig regnemaskin i «skyen». Alle beregningene du skal gjøre foregår på denne maskinen, levert av Paperspace. \n",
    "\n",
    "<a href=\"https://paperspace.com\"><img width=20% src=\"assets/paperspace.jpeg\"></a>\n",
    "\n",
    "Gjennom nettleseren din kjører du Jupyter Notebook på Paperspace-maskinen. Jupyter Notebook er et hendig verktøy for eksperimentering med kode.\n",
    "\n",
    "<img width=10% src=\"assets/jupyter.png\">\n",
    "\n",
    "Alt av tekst og kode er skrevet i en blanding av HTML, Markdown og Python."
   ]
  },
  {
   "cell_type": "markdown",
   "metadata": {},
   "source": [
    "Bruk piltast opp og ned for å navigere mellom boksene. Trykk **ENTER** på en boks for å gå inn i redigeringsmodus. Trykk **SHIFT+ENTER** for å \"kjøre\" en boks. **ESC** for å gå ut av redigeringsmodus. Bruk Help-menyen øverst for mer informasjon."
   ]
  },
  {
   "cell_type": "code",
   "execution_count": 3,
   "metadata": {},
   "outputs": [],
   "source": [
    "# For å kunne vise plots i notebooken\n",
    "%matplotlib inline "
   ]
  },
  {
   "cell_type": "markdown",
   "metadata": {},
   "source": [
    "# Start her:"
   ]
  },
  {
   "cell_type": "code",
   "execution_count": null,
   "metadata": {},
   "outputs": [],
   "source": []
  }
 ],
 "metadata": {
  "kernelspec": {
   "display_name": "Mediacity",
   "language": "python",
   "name": "mediacity"
  },
  "language_info": {
   "codemirror_mode": {
    "name": "ipython",
    "version": 3
   },
   "file_extension": ".py",
   "mimetype": "text/x-python",
   "name": "python",
   "nbconvert_exporter": "python",
   "pygments_lexer": "ipython3",
   "version": "3.6.5"
  }
 },
 "nbformat": 4,
 "nbformat_minor": 2
}
